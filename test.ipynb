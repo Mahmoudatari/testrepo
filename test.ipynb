{
    "cells": [
        {
            "cell_type": "markdown",
            "metadata": {
                "collapsed": true
            },
            "source": "##TEST"
        },
        {
            "cell_type": "code",
            "execution_count": 2,
            "metadata": {},
            "outputs": [
                {
                    "data": {
                        "text/html": "<div>\n<style scoped>\n    .dataframe tbody tr th:only-of-type {\n        vertical-align: middle;\n    }\n\n    .dataframe tbody tr th {\n        vertical-align: top;\n    }\n\n    .dataframe thead th {\n        text-align: right;\n    }\n</style>\n<table border=\"1\" class=\"dataframe\">\n  <thead>\n    <tr style=\"text-align: right;\">\n      <th></th>\n      <th>url</th>\n      <th>length_url</th>\n      <th>length_hostname</th>\n      <th>ip</th>\n      <th>nb_dots</th>\n      <th>nb_hyphens</th>\n      <th>nb_at</th>\n      <th>nb_qm</th>\n      <th>nb_and</th>\n      <th>nb_or</th>\n      <th>...</th>\n      <th>domain_in_title</th>\n      <th>domain_with_copyright</th>\n      <th>whois_registered_domain</th>\n      <th>domain_registration_length</th>\n      <th>domain_age</th>\n      <th>web_traffic</th>\n      <th>dns_record</th>\n      <th>google_index</th>\n      <th>page_rank</th>\n      <th>status</th>\n    </tr>\n  </thead>\n  <tbody>\n    <tr>\n      <th>0</th>\n      <td>http://www.crestonwood.com/router.php</td>\n      <td>37</td>\n      <td>19</td>\n      <td>0</td>\n      <td>3</td>\n      <td>0</td>\n      <td>0</td>\n      <td>0</td>\n      <td>0</td>\n      <td>0</td>\n      <td>...</td>\n      <td>0</td>\n      <td>1</td>\n      <td>0</td>\n      <td>45</td>\n      <td>-1</td>\n      <td>0</td>\n      <td>1</td>\n      <td>1</td>\n      <td>4</td>\n      <td>legitimate</td>\n    </tr>\n    <tr>\n      <th>1</th>\n      <td>http://shadetreetechnology.com/V4/validation/a...</td>\n      <td>77</td>\n      <td>23</td>\n      <td>1</td>\n      <td>1</td>\n      <td>0</td>\n      <td>0</td>\n      <td>0</td>\n      <td>0</td>\n      <td>0</td>\n      <td>...</td>\n      <td>1</td>\n      <td>0</td>\n      <td>0</td>\n      <td>77</td>\n      <td>5767</td>\n      <td>0</td>\n      <td>0</td>\n      <td>1</td>\n      <td>2</td>\n      <td>phishing</td>\n    </tr>\n    <tr>\n      <th>2</th>\n      <td>https://support-appleld.com.secureupdate.duila...</td>\n      <td>126</td>\n      <td>50</td>\n      <td>1</td>\n      <td>4</td>\n      <td>1</td>\n      <td>0</td>\n      <td>1</td>\n      <td>2</td>\n      <td>0</td>\n      <td>...</td>\n      <td>1</td>\n      <td>0</td>\n      <td>0</td>\n      <td>14</td>\n      <td>4004</td>\n      <td>5828815</td>\n      <td>0</td>\n      <td>1</td>\n      <td>0</td>\n      <td>phishing</td>\n    </tr>\n    <tr>\n      <th>3</th>\n      <td>http://rgipt.ac.in</td>\n      <td>18</td>\n      <td>11</td>\n      <td>0</td>\n      <td>2</td>\n      <td>0</td>\n      <td>0</td>\n      <td>0</td>\n      <td>0</td>\n      <td>0</td>\n      <td>...</td>\n      <td>1</td>\n      <td>0</td>\n      <td>0</td>\n      <td>62</td>\n      <td>-1</td>\n      <td>107721</td>\n      <td>0</td>\n      <td>0</td>\n      <td>3</td>\n      <td>legitimate</td>\n    </tr>\n    <tr>\n      <th>4</th>\n      <td>http://www.iracing.com/tracks/gateway-motorspo...</td>\n      <td>55</td>\n      <td>15</td>\n      <td>0</td>\n      <td>2</td>\n      <td>2</td>\n      <td>0</td>\n      <td>0</td>\n      <td>0</td>\n      <td>0</td>\n      <td>...</td>\n      <td>0</td>\n      <td>1</td>\n      <td>0</td>\n      <td>224</td>\n      <td>8175</td>\n      <td>8725</td>\n      <td>0</td>\n      <td>0</td>\n      <td>6</td>\n      <td>legitimate</td>\n    </tr>\n  </tbody>\n</table>\n<p>5 rows \u00d7 89 columns</p>\n</div>",
                        "text/plain": "                                                 url  length_url  \\\n0              http://www.crestonwood.com/router.php          37   \n1  http://shadetreetechnology.com/V4/validation/a...          77   \n2  https://support-appleld.com.secureupdate.duila...         126   \n3                                 http://rgipt.ac.in          18   \n4  http://www.iracing.com/tracks/gateway-motorspo...          55   \n\n   length_hostname  ip  nb_dots  nb_hyphens  nb_at  nb_qm  nb_and  nb_or  ...  \\\n0               19   0        3           0      0      0       0      0  ...   \n1               23   1        1           0      0      0       0      0  ...   \n2               50   1        4           1      0      1       2      0  ...   \n3               11   0        2           0      0      0       0      0  ...   \n4               15   0        2           2      0      0       0      0  ...   \n\n   domain_in_title  domain_with_copyright  whois_registered_domain  \\\n0                0                      1                        0   \n1                1                      0                        0   \n2                1                      0                        0   \n3                1                      0                        0   \n4                0                      1                        0   \n\n   domain_registration_length  domain_age  web_traffic  dns_record  \\\n0                          45          -1            0           1   \n1                          77        5767            0           0   \n2                          14        4004      5828815           0   \n3                          62          -1       107721           0   \n4                         224        8175         8725           0   \n\n   google_index  page_rank      status  \n0             1          4  legitimate  \n1             1          2    phishing  \n2             1          0    phishing  \n3             0          3  legitimate  \n4             0          6  legitimate  \n\n[5 rows x 89 columns]"
                    },
                    "execution_count": 2,
                    "metadata": {},
                    "output_type": "execute_result"
                }
            ],
            "source": "# The code was removed by Watson Studio for sharing."
        },
        {
            "cell_type": "code",
            "execution_count": null,
            "metadata": {},
            "outputs": [],
            "source": ""
        }
    ],
    "metadata": {
        "kernelspec": {
            "display_name": "Python 3.9",
            "language": "python",
            "name": "python3"
        },
        "language_info": {
            "codemirror_mode": {
                "name": "ipython",
                "version": 3
            },
            "file_extension": ".py",
            "mimetype": "text/x-python",
            "name": "python",
            "nbconvert_exporter": "python",
            "pygments_lexer": "ipython3",
            "version": "3.9.7"
        }
    },
    "nbformat": 4,
    "nbformat_minor": 1
}